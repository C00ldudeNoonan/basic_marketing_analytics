{
  "nbformat": 4,
  "nbformat_minor": 0,
  "metadata": {
    "colab": {
      "provenance": [],
      "authorship_tag": "ABX9TyOuPTKmt660+cvVMPecKnLF",
      "include_colab_link": true
    },
    "kernelspec": {
      "name": "python3",
      "display_name": "Python 3"
    },
    "language_info": {
      "name": "python"
    }
  },
  "cells": [
    {
      "cell_type": "markdown",
      "metadata": {
        "id": "view-in-github",
        "colab_type": "text"
      },
      "source": [
        "<a href=\"https://colab.research.google.com/github/C00ldudeNoonan/basic_marketing_analytics/blob/main/Basic_Marketing_analytics.ipynb\" target=\"_parent\"><img src=\"https://colab.research.google.com/assets/colab-badge.svg\" alt=\"Open In Colab\"/></a>"
      ]
    },
    {
      "cell_type": "markdown",
      "source": [
        "## Intro\n",
        "\n",
        "Goals of Analysis\n",
        "\n",
        "\n",
        "* Actionable insights\n",
        "* Effectiveness metrics\n",
        "* Efficiency metrics\n",
        "* Points of Leverage\n",
        "\n",
        "\n",
        "Analysis Examples\n",
        "\n",
        "The funnel(Facebook Ads)\n",
        "\n",
        "Audience-Geographic (Google Analytics)\n",
        "\n",
        "Creative (Google Analytics)\n",
        "\n",
        "Date Time (Google Analytics)\n",
        "\n"
      ],
      "metadata": {
        "id": "IiXxRWkEXJhf"
      }
    },
    {
      "cell_type": "code",
      "execution_count": 98,
      "metadata": {
        "colab": {
          "base_uri": "https://localhost:8080/"
        },
        "id": "Ne34sb9DW-UF",
        "outputId": "02cd3e9b-965e-4317-d75c-fb2dde02420d"
      },
      "outputs": [
        {
          "output_type": "stream",
          "name": "stdout",
          "text": [
            "Table:  facebook_ads_data\n",
            "Index(['campaign', 'ad_name', 'period_start_date', 'period_end_date',\n",
            "       'impressions', 'frequency', 'link_clicks', 'ctr', 'amount_spent', 'cpc',\n",
            "       'website_purchases', 'conversion_rate', 'cost_per_conversion'],\n",
            "      dtype='object')\n",
            "Table:  geographic_data\n",
            "Index(['state_fips', 'state', 'state_abbr', 'zipcode', 'county', 'city', 'Lat',\n",
            "       'Long'],\n",
            "      dtype='object')\n",
            "Table:  google_analytics_data\n",
            "Index(['purchase_amount', 'city', 'state', 'utm_campaign', 'utm_ad',\n",
            "       'utm_source', 'utm_channel', 'date'],\n",
            "      dtype='object')\n",
            "Tables in DuckDB:\n",
            "facebook_ads_data\n",
            "geographic_data\n",
            "google_analytics_data\n"
          ]
        }
      ],
      "source": [
        "import duckdb\n",
        "import pandas as pd\n",
        "import warnings\n",
        "import plotly.express as px\n",
        "import matplotlib.pyplot as plt\n",
        "import seaborn as sns\n",
        "import plotly.graph_objects as go\n",
        "# Use the filterwarnings method to suppress specific warnings\n",
        "warnings.filterwarnings(\"ignore\", category=UserWarning)\n",
        "\n",
        "\n",
        "csv_urls = [\n",
        "    \"https://raw.githubusercontent.com/C00ldudeNoonan/basic_marketing_analytics/main/facebook_ads_data.csv\",\n",
        "    \"https://raw.githubusercontent.com/C00ldudeNoonan/basic_marketing_analytics/main/geographic_data.csv\",\n",
        "    \"https://raw.githubusercontent.com/C00ldudeNoonan/basic_marketing_analytics/main/google_analytics_data.csv\"\n",
        "]\n",
        "\n",
        "# Create a DuckDB connection\n",
        "con = duckdb.connect(database=':memory:')\n",
        "\n",
        "# Read each CSV into a separate dataframe and create a corresponding DuckDB table\n",
        "for url in csv_urls:\n",
        "    df = pd.read_csv(url)\n",
        "    table_name = url.split(\"/\")[-1].split(\".\")[0]\n",
        "    print('Table: ', table_name)\n",
        "    print(df.columns)\n",
        "    con.execute(f\"CREATE TABLE {table_name} AS SELECT * FROM read_csv_auto('{url}');\")\n",
        "\n",
        "# Verify the tables in DuckDB\n",
        "tables = con.execute(\"SELECT name FROM sqlite_master WHERE type='table';\").fetchall()\n",
        "print(\"Tables in DuckDB:\")\n",
        "for table in tables:\n",
        "    print(table[0])\n"
      ]
    },
    {
      "cell_type": "markdown",
      "source": [
        "## Funnel Anaylsis\n",
        "\n",
        "Facebook Ads\n",
        "\n"
      ],
      "metadata": {
        "id": "5fmQBZ-4EuuO"
      }
    },
    {
      "cell_type": "code",
      "source": [
        "funnel_ads = con.sql(\"\"\"SELECT\n",
        "                            ad_name,\n",
        "                            'impressions' AS metric_name,\n",
        "                            SUM(CAST(REPLACE(impressions, ',', '') AS float)) AS value\n",
        "                        FROM\n",
        "                            facebook_ads_data\n",
        "                        GROUP BY\n",
        "                            ad_name\n",
        "\n",
        "                        UNION ALL\n",
        "\n",
        "                        SELECT\n",
        "                            ad_name,\n",
        "                            'link_clicks' AS metric_name,\n",
        "                            SUM(CAST(link_clicks AS float)) AS value\n",
        "                        FROM\n",
        "                            facebook_ads_data\n",
        "                        GROUP BY\n",
        "                            ad_name\n",
        "\n",
        "                        UNION ALL\n",
        "\n",
        "                        SELECT\n",
        "                            ad_name,\n",
        "                            'purchase' AS metric_name,\n",
        "                            SUM(CAST(website_purchases AS float)) AS value\n",
        "                        FROM\n",
        "                            facebook_ads_data\n",
        "                        GROUP BY\n",
        "                            ad_name;\n",
        "                            \"\"\").to_df()\n",
        "print(funnel_ads)"
      ],
      "metadata": {
        "colab": {
          "base_uri": "https://localhost:8080/"
        },
        "id": "lZ-QjDYRFLgM",
        "outputId": "a771f512-0db7-4e52-ac6f-620cfd79b1bf"
      },
      "execution_count": 19,
      "outputs": [
        {
          "output_type": "stream",
          "name": "stdout",
          "text": [
            "   ad_name  metric_name    value\n",
            "0      Two  impressions  57975.0\n",
            "1    Three  impressions  40281.0\n",
            "2     Four  impressions  35278.0\n",
            "3      One  impressions  52690.0\n",
            "4      Two  link_clicks   5775.0\n",
            "5    Three  link_clicks   4020.0\n",
            "6     Four  link_clicks   2093.0\n",
            "7      One  link_clicks   3242.0\n",
            "8      Two     purchase    190.0\n",
            "9    Three     purchase    177.0\n",
            "10    Four     purchase     37.0\n",
            "11     One     purchase     52.0\n"
          ]
        }
      ]
    },
    {
      "cell_type": "code",
      "source": [
        "funnel_ads = con.sql(\"\"\"SELECT\n",
        "                            ad_name,\n",
        "                            'impressions' AS metric_name,\n",
        "                            SUM(CAST(REPLACE(impressions, ',', '') AS float)) AS value\n",
        "                        FROM\n",
        "                            facebook_ads_data\n",
        "                        GROUP BY\n",
        "                            ad_name\n",
        "\n",
        "                        UNION ALL\n",
        "\n",
        "                        SELECT\n",
        "                            ad_name,\n",
        "                            'link_clicks' AS metric_name,\n",
        "                            SUM(CAST(link_clicks AS float)) AS value\n",
        "                        FROM\n",
        "                            facebook_ads_data\n",
        "                        GROUP BY\n",
        "                            ad_name\n",
        "\n",
        "                        UNION ALL\n",
        "\n",
        "                        SELECT\n",
        "                            ad_name,\n",
        "                            'purchase' AS metric_name,\n",
        "                            SUM(CAST(website_purchases AS float)) AS value\n",
        "                        FROM\n",
        "                            facebook_ads_data\n",
        "                        GROUP BY\n",
        "                            ad_name;\n",
        "                            \"\"\").to_df()\n",
        "\n",
        "funnel_pct = con.sql(\"\"\"SELECT\n",
        "                            ad_name\n",
        "                            ,ROUND(SUM(CAST(link_clicks as float))/SUM(CAST(REPLACE(impressions, ',', '') AS float))*100, 2) as click_rate\n",
        "                            ,ROUND(SUM(CAST(website_purchases as float))/SUM(CAST(link_clicks as float))*100, 2) as conversion_rate\n",
        "                        FROM\n",
        "                            facebook_ads_data\n",
        "                        GROUP BY\n",
        "                        ad_name\n",
        "                            \"\"\").to_df()\n",
        "\n",
        "\n",
        "print(funnel_pct)\n",
        "print(funnel_ads.head(3))\n",
        "\n",
        "\n",
        "\n",
        "fig = px.funnel(funnel_ads, x='value', y='metric_name', color='ad_name')\n",
        "fig.show()"
      ],
      "metadata": {
        "id": "pHfDdaiCDW3I"
      },
      "execution_count": null,
      "outputs": []
    },
    {
      "cell_type": "code",
      "source": [
        "# geographic analysis\n",
        "# geo cte step to remove duplicate cities\n",
        "\n",
        "\n",
        "geo_df = con.query(\"\"\" WITH Totals as(\n",
        "                    SELECT\n",
        "                    SUM(cast(purchase_amount as float)) as total_purchase\n",
        "                    ,city\n",
        "                    ,state\n",
        "\n",
        "                    FROM google_analytics_data\n",
        "                    GROUP BY\n",
        "                    city,\n",
        "                    state\n",
        "                    ),\n",
        "\n",
        "                    geo as(\n",
        "                        SELECT\n",
        "                        gd.city\n",
        "                        ,gd.state\n",
        "                        ,min(CAST(lat as float)) as lat\n",
        "                        ,min(CAST(long as float)) as long\n",
        "                        FROM geographic_data gd\n",
        "                        WHERE lat <> '#N/A' OR long <> '#N/A'\n",
        "                        GROUP BY\n",
        "                        gd.city\n",
        "                        ,gd.state\n",
        "                    )\n",
        "\n",
        "                    SELECT\n",
        "                    totals.total_purchase\n",
        "                    ,totals.city\n",
        "                    ,totals.state\n",
        "                    ,geo.lat\n",
        "                    ,geo.long\n",
        "                    from totals\n",
        "                    LEFT JOIN geo\n",
        "                      on geo.state = totals.state\n",
        "                      and geo.city = totals.city\n",
        "                    \"\"\").to_df()\n",
        "\n",
        "\n",
        "print(geo_df.head())\n",
        "\n",
        "\n",
        "geo_df['text'] = geo_df['city'] + '<br>Revenue ' + (geo_df['total_purchase']).astype(str)\n",
        "limits = [(0,2),(3,10),(11,20),(21,50),(50,3000)]\n",
        "colors = [\"royalblue\",\"crimson\",\"lightseagreen\",\"orange\",\"lightgrey\"]\n",
        "cities = []\n",
        "scale = 5000\n",
        "\n",
        "fig = go.Figure()\n",
        "\n",
        "\n",
        "df_sub = geo_df\n",
        "fig.add_trace(go.Scattergeo(\n",
        "    locationmode = 'USA-states',\n",
        "    lon = df_sub['long'],\n",
        "    lat = df_sub['lat'],\n",
        "    text = df_sub['text'],\n",
        "    marker = dict(\n",
        "        size = df_sub['total_purchase'],\n",
        "        color =\"green\",\n",
        "        line_color='rgb(40,40,40)',\n",
        "        line_width=0.5,\n",
        "        sizemode = 'area'\n",
        "    )))\n",
        "\n",
        "fig.update_layout(\n",
        "        title_text = 'Q4 Puchases - Google Anayltics<br>(Click legend to toggle traces)',\n",
        "        showlegend = True,\n",
        "        geo = dict(\n",
        "            scope = 'usa',\n",
        "            landcolor = 'rgb(217, 217, 217)',\n",
        "        )\n",
        "    )\n",
        "\n",
        "fig.show()\n"
      ],
      "metadata": {
        "id": "ioNva2hZKVJ7"
      },
      "execution_count": null,
      "outputs": []
    },
    {
      "cell_type": "code",
      "source": [
        "creative_df = con.query(\"\"\"\n",
        "                          SELECT\n",
        "                          campaign\n",
        "                          ,ad_name\n",
        "                          ,SUM(CAST(REPLACE(impressions, ',', '') AS float)) as impressions\n",
        "                          ,sum(CAST(website_purchases as float)) as website_purchases\n",
        "                          ,ROUND(SUM(CAST(website_purchases as float))/SUM(CAST(link_clicks as float))*100, 2) as conversion_rate\n",
        "                          ,ROUND(SUM(CAST(link_clicks as float))/SUM(CAST(REPLACE(impressions, ',', '') AS float))*100, 2) as click_rate\n",
        "                          ,ROUND(SUM(CAST(amount_spent AS float))/SUM(CAST(website_purchases as float)), 2) as cost_per_conversion\n",
        "                          FROM facebook_ads_data\n",
        "                          GROUP BY\n",
        "                          campaign,\n",
        "                          ad_name\n",
        "                        \"\"\").to_df()\n",
        "\n",
        "\n",
        "roi_df = con.query(\"\"\"With google_analytics as (SELECT\n",
        "                      utm_source,\n",
        "                      utm_ad,\n",
        "                      utm_campaign,\n",
        "                      sum(purchase_amount) as total_sold\n",
        "                      FROM google_analytics_data\n",
        "                      GROUP BY\n",
        "                      utm_source,\n",
        "                      utm_ad,\n",
        "                      utm_campaign),\n",
        "\n",
        "                      facebook as (\n",
        "                        SELECT\n",
        "                          lower(campaign) as campaign\n",
        "                          ,lower(ad_name) as ad_name\n",
        "                          ,sum(CAST(amount_spent as float)) as total_spent\n",
        "\n",
        "                        FROM facebook_ads_data\n",
        "                        GROUP by\n",
        "                        campaign,\n",
        "                        ad_name\n",
        "                        )\n",
        "\n",
        "                        Select\n",
        "                        ga.utm_source as source\n",
        "                        ,ga.utm_ad as ad\n",
        "                        ,ga.utm_campaign as campaign\n",
        "                        ,ga.total_sold\n",
        "                        ,IFNULL(fb.total_spent, 0) As total_spent\n",
        "\n",
        "                        FROM google_analytics ga\n",
        "                        LEFT JOIN facebook fb\n",
        "                          on ga.utm_ad = fb.ad_name\n",
        "                          AND ga.utm_campaign = fb.campaign\n",
        "\n",
        "                      \"\"\").to_df()\n",
        "\n",
        "\n",
        "fig, ax = plt.subplots()\n",
        "sns.color_palette(\"flare\")\n",
        "sns.scatterplot(data=creative_df, x=\"conversion_rate\", y=\"cost_per_conversion\", size=\"website_purchases\",hue=\"ad_name\", alpha=0.5, sizes=(20, 400), ax=ax)\n",
        "ax.set_title(\"Creative Performance Plot\")\n",
        "ax.set_xlabel('Converation Rate (%)')\n",
        "ax.set_ylabel('Cost per Conversion ($)')\n",
        "plt.show()\n",
        "\n",
        "#\n",
        "roi_df['roi%'] = ((roi_df['total_sold'] - roi_df['total_spent'])/roi_df['total_spent'])*100\n",
        "roi_df =  roi_df[roi_df['source']=='fb']\n",
        "print(roi_df.head())\n",
        "\n",
        "print(\"Total Ad ROI: \",str(round((roi_df['total_sold'].sum() - roi_df['total_spent'].sum())/roi_df['total_spent'].sum(), 2)*100) +' %')\n"
      ],
      "metadata": {
        "colab": {
          "base_uri": "https://localhost:8080/",
          "height": 576
        },
        "id": "X5MdUg5DRhl_",
        "outputId": "f8844f01-0ac6-4ab3-a324-a14b0e25af6f"
      },
      "execution_count": 124,
      "outputs": [
        {
          "output_type": "display_data",
          "data": {
            "text/plain": [
              "<Figure size 640x480 with 1 Axes>"
            ],
            "image/png": "[encoded data removed]"
          },
          "metadata": {}
        },
        {
          "output_type": "stream",
          "name": "stdout",
          "text": [
            "  source     ad   campaign  total_sold  total_spent        roi%\n",
            "0     fb  three  promotion      6050.0       1500.0  303.333333\n",
            "2     fb    one    branded       700.0       1500.0  -53.333333\n",
            "3     fb    two    branded      3870.0       1500.0  158.000000\n",
            "4     fb   four  promotion       390.0       1500.0  -74.000000\n",
            "Total Ad ROI:  84.0 %\n"
          ]
        }
      ]
    },
    {
      "cell_type": "code",
      "source": [
        "# time series google analytics and day of the week bar chart\n",
        "time_seriesdf =  con.query(\"\"\"SELECT\n",
        "                                    CAST(date as date) as date\n",
        "                                    ,sum(purchase_amount) as total_amount\n",
        "                                    ,COUNT(*) as units_sold\n",
        "                                    ,utm_ad as ad\n",
        "                                    FROM google_analytics_data\n",
        "                                    GROUP BY\n",
        "                                    CAST(date as date),\n",
        "                                    ad\"\"\").to_df()\n",
        "\n",
        "day_of_week_df = con.query(\"\"\"\n",
        "                            SELECT\n",
        "                            dayofweek(CAST(date as date)) as day_of_week\n",
        "                            ,sum(purchase_amount) as total_amount\n",
        "                            ,COUNT(*) as units_sold\n",
        "                            FROM google_analytics_data\n",
        "                            GROUP BY\n",
        "                            dayofweek(CAST(date as date))\n",
        "                            \"\"\").to_df()\n",
        "print(day_of_week_df.head(10))\n",
        "# Create a figure and two subplots\n",
        "fig, axes = plt.subplots(nrows=2, figsize=(10, 8), sharex=True)\n",
        "df_pivot = time_seriesdf.pivot(index='date', columns='ad', values='total_amount')\n",
        "df2_pivot = time_seriesdf.pivot(index='date', columns='ad', values='units_sold')\n",
        "\n",
        "# Stacked area plot for total purchases by ad\n",
        "df_pivot.plot(kind='bar', stacked=True, figsize=(10, 6), ax=axes[0])\n",
        "\n",
        "axes[0].set_title('Total Purchases by Ad')\n",
        "axes[0].set_ylabel('Purchase Amount')\n",
        "\n",
        "# Stacked area plot for total purchases amount\n",
        "df2_pivot.plot(kind='bar', stacked=True, figsize=(10, 6), ax=axes[1])\n",
        "\n",
        "axes[1].set_title('Units Sold by Ad')\n",
        "axes[1].set_xlabel('Date')\n",
        "axes[1].set_ylabel('Units Sold')\n",
        "axes[1]\n",
        "plt.xticks([])\n",
        "\n",
        "# Adjust layout and display the plots\n",
        "plt.tight_layout()\n",
        "plt.show()"
      ],
      "metadata": {
        "colab": {
          "base_uri": "https://localhost:8080/",
          "height": 746
        },
        "id": "yMOvznUzgPIK",
        "outputId": "05d1c1e5-c547-4739-909b-dede76b0153d"
      },
      "execution_count": 138,
      "outputs": [
        {
          "output_type": "stream",
          "name": "stdout",
          "text": [
            "   day_of_week  total_amount  units_sold\n",
            "0            0        2680.0          74\n",
            "1            1        2500.0          69\n",
            "2            2        1605.0          46\n",
            "3            3        2135.0          67\n",
            "4            4        1910.0          55\n",
            "5            5        2760.0          82\n",
            "6            6        2420.0          67\n"
          ]
        },
        {
          "output_type": "display_data",
          "data": {
            "text/plain": [
              "<Figure size 1000x600 with 2 Axes>"
            ],
            "image/png": "[encoded data removed]"
          },
          "metadata": {}
        }
      ]
    }
  ]
}